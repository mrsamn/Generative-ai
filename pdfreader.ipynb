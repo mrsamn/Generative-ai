{
 "cells": [
  {
   "cell_type": "code",
   "execution_count": 1,
   "id": "2df7ecdd-c099-4b64-812c-3797190eb602",
   "metadata": {},
   "outputs": [],
   "source": [
    "from langchain_groq import ChatGroq"
   ]
  },
  {
   "cell_type": "code",
   "execution_count": 2,
   "id": "22dacd8e-aee0-4c17-b151-c59c24fef9cd",
   "metadata": {},
   "outputs": [
    {
     "name": "stdout",
     "output_type": "stream",
     "text": [
      "Requirement already satisfied: PyPDF2 in c:\\users\\rajpi\\appdata\\local\\programs\\python\\python313\\lib\\site-packages (3.0.1)\n",
      "Note: you may need to restart the kernel to use updated packages.\n"
     ]
    },
    {
     "name": "stderr",
     "output_type": "stream",
     "text": [
      "\n",
      "[notice] A new release of pip is available: 24.3.1 -> 25.0\n",
      "[notice] To update, run: python.exe -m pip install --upgrade pip\n"
     ]
    }
   ],
   "source": [
    "pip install PyPDF2"
   ]
  },
  {
   "cell_type": "code",
   "execution_count": 3,
   "id": "03bdd4b2-cb16-454d-8098-adc4efb18aa4",
   "metadata": {},
   "outputs": [],
   "source": [
    "import PyPDF2\n",
    "from langchain_groq import ChatGroq\n",
    "\n",
    "# Initialize the ChatGroq instance\n",
    "llm = ChatGroq(\n",
    "    model=\"mixtral-8x7b-32768\",\n",
    "    temperature=0.2,\n",
    "    groq_api_key=\"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\"\n",
    "\n",
    ")"
   ]
  },
  {
   "cell_type": "code",
   "execution_count": 4,
   "id": "4fdea3f7-4664-4cd5-bd9f-e62cd8d5487d",
   "metadata": {},
   "outputs": [],
   "source": [
    "# Function to extract text from PDF\n",
    "def extract_text_from_pdf(pdf_path):\n",
    "    try:\n",
    "        with open(pdf_path, \"rb\") as file:\n",
    "            reader = PyPDF2.PdfReader(file)\n",
    "            text = \"\"\n",
    "            for page in reader.pages:\n",
    "                text += page.extract_text()\n",
    "        return text\n",
    "    except Exception as e:\n",
    "        print(f\"Error reading PDF: {e}\")\n",
    "        return \"\""
   ]
  },
  {
   "cell_type": "code",
   "execution_count": 5,
   "id": "918b058b-5fb5-4fa0-9aca-203727d92c3e",
   "metadata": {},
   "outputs": [],
   "source": [
    "# Function to query the content\n",
    "def query_pdf_content(pdf_content, query):\n",
    "    prompt = f\"\"\"\n",
    "    You are a PDF content assistant. The following text is extracted from a PDF document:\n",
    "    ---\n",
    "    {pdf_content}\n",
    "    ---\n",
    "    Answer the user's query based on the above content. If the answer is not found in the text, reply with 'No information exists.'\n",
    "    \n",
    "    Query: {query}\n",
    "    \"\"\"\n",
    "    response = llm.invoke(prompt, max_tokens=150)\n",
    "    return response.content.strip()  # Accessing the content attribute and applying strip()"
   ]
  },
  {
   "cell_type": "code",
   "execution_count": 6,
   "id": "e151d09d-ba5a-4456-8b58-644be1237b46",
   "metadata": {},
   "outputs": [
    {
     "name": "stdin",
     "output_type": "stream",
     "text": [
      "Ask your question (or type 'exit' to quit):  tell me about earth\n"
     ]
    },
    {
     "name": "stdout",
     "output_type": "stream",
     "text": [
      "Response: Sure, I'd be happy to tell you about Earth based on the information provided in the text.\n",
      "\n",
      "Earth is the only planet known to support life. It has liquid water on its surface, which is essential for life as we know it. The distance of Earth from the sun allows for water to exist in a liquid state, as when it is closer to the sun, water evaporates, and when it is farther away, water freezes.\n",
      "\n",
      "Earth's atmosphere contains carbon dioxide, which plays an important role in feeding plants and indirectly, animals. Carbon dioxide also traps heat, which helps maintain a suitable temperature for life.\n",
      "\n",
      "The solid surface of Earth is made up of\n"
     ]
    },
    {
     "name": "stdin",
     "output_type": "stream",
     "text": [
      "Ask your question (or type 'exit' to quit):  exit\n"
     ]
    }
   ],
   "source": [
    "# Main Execution\n",
    "pdf_path = \"ouruniverse.pdf\"  # Replace with your PDF file path\n",
    "pdf_content = extract_text_from_pdf(pdf_path)\n",
    "\n",
    "if pdf_content:\n",
    "    while True:\n",
    "        user_query = input(\"Ask your question (or type 'exit' to quit): \")\n",
    "        if user_query.lower() == \"exit\":\n",
    "            break\n",
    "        response = query_pdf_content(pdf_content, user_query)\n",
    "        print(\"Response:\", response)\n",
    "else:\n",
    "    print(\"Could not extract content from the PDF.\")"
   ]
  }
 ],
 "metadata": {
  "kernelspec": {
   "display_name": "Python 3 (ipykernel)",
   "language": "python",
   "name": "python3"
  },
  "language_info": {
   "codemirror_mode": {
    "name": "ipython",
    "version": 3
   },
   "file_extension": ".py",
   "mimetype": "text/x-python",
   "name": "python",
   "nbconvert_exporter": "python",
   "pygments_lexer": "ipython3",
   "version": "3.13.2"
  }
 },
 "nbformat": 4,
 "nbformat_minor": 5
}
