{
 "cells": [
  {
   "cell_type": "code",
   "execution_count": 5,
   "id": "2771dea3-29de-447c-a148-af1cb44a8ced",
   "metadata": {},
   "outputs": [],
   "source": [
    "from langchain_groq import ChatGroq"
   ]
  },
  {
   "cell_type": "code",
   "execution_count": 6,
   "id": "5478a653-62d0-46df-9e1a-ec2ad70482f5",
   "metadata": {},
   "outputs": [],
   "source": [
    "llm = ChatGroq(\n",
    "    model= \"mixtral-8x7b-32768\",\n",
    "    temperature=0,\n",
    "    groq_api_key=\"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\"\n",
    ")"
   ]
  },
  {
   "cell_type": "code",
   "execution_count": 7,
   "id": "428b36d4-c4ce-4e19-9b7c-df23cdfd63f7",
   "metadata": {},
   "outputs": [
    {
     "data": {
      "text/plain": [
       "AIMessage(content='As of my knowledge up to October 2021, the Prime Minister of India is Narendra Modi. He has been in office since May 2014. However, please verify from a reliable source as this information might have changed.', additional_kwargs={}, response_metadata={'token_usage': {'completion_tokens': 55, 'prompt_tokens': 15, 'total_tokens': 70, 'completion_time': 0.083556804, 'prompt_time': 0.002294072, 'queue_time': 0.021087826, 'total_time': 0.085850876}, 'model_name': 'mixtral-8x7b-32768', 'system_fingerprint': 'fp_c5f20b5bb1', 'finish_reason': 'stop', 'logprobs': None}, id='run-8a289835-b663-48aa-a7a7-e0c550131a58-0', usage_metadata={'input_tokens': 15, 'output_tokens': 55, 'total_tokens': 70})"
      ]
     },
     "execution_count": 7,
     "metadata": {},
     "output_type": "execute_result"
    }
   ],
   "source": [
    "response = llm.invoke(\"who is the prime minister of india\")\n",
    "response"
   ]
  },
  {
   "cell_type": "code",
   "execution_count": 9,
   "id": "e1d6562f-2447-4ac8-8999-8e46151d37cb",
   "metadata": {},
   "outputs": [
    {
     "data": {
      "text/plain": [
       "AIMessage(content=\"Sachin Tendulkar is a former Indian cricketer,\\nconsidered one of the greatest batsmen in the history of the sport. He was born on April 24, 1973, in Mumbai, India.\\n\\nTendulkar made his international debut for India in 1989 at the age of 16 and went on to play in 200 Test matches and 463 One Day Internationals (ODIs) for India. He is the all-time leading run-scorer in both formats of the game, with over 34,000 international runs to his name.\\n\\nTendulkar was known for his elegant batting style, incredible consistency, and ability to score runs against any bowling attack. He was particularly successful against Australia, scoring over 3,000 runs against them in Test matches alone.\\n\\nTendulkar's many achievements include being the first batsman to score a double century in an ODI, winning the World Cup with India in 2011, and being awarded the Bharat Ratna, India's highest civilian honor, in 2014.\\n\\nTendulkar retired from international cricket in 2013, but his legacy continues to inspire young cricketers around the world. He is widely regarded as a legend of the game and a true ambassador of cricket.\", additional_kwargs={}, response_metadata={'token_usage': {'completion_tokens': 307, 'prompt_tokens': 17, 'total_tokens': 324, 'completion_time': 0.477425176, 'prompt_time': 0.003329865, 'queue_time': 0.020471344, 'total_time': 0.480755041}, 'model_name': 'mixtral-8x7b-32768', 'system_fingerprint': 'fp_c5f20b5bb1', 'finish_reason': 'stop', 'logprobs': None}, id='run-e487fdb7-e695-4e84-b6a2-17fa76fd1e99-0', usage_metadata={'input_tokens': 17, 'output_tokens': 307, 'total_tokens': 324})"
      ]
     },
     "execution_count": 9,
     "metadata": {},
     "output_type": "execute_result"
    }
   ],
   "source": [
    "response = llm.invoke(\"tell me something about sachin tendulkar\")\n",
    "response"
   ]
  },
  {
   "cell_type": "code",
   "execution_count": null,
   "id": "174c8593-8acd-4d19-8fcb-2aaa1b97d727",
   "metadata": {},
   "outputs": [],
   "source": []
  },
  {
   "cell_type": "code",
   "execution_count": 8,
   "id": "e2706e66-fd59-4bc8-aad9-167d91d07c7d",
   "metadata": {},
   "outputs": [
    {
     "data": {
      "text/plain": [
       "AIMessage(content='As of my knowledge up to October 2021, the Prime Minister of India is Narendra Modi. He has been in office since May 2014. However, please verify from a reliable source as this information might have changed.', additional_kwargs={}, response_metadata={'token_usage': {'completion_tokens': 55, 'prompt_tokens': 15, 'total_tokens': 70, 'completion_time': 0.083776417, 'prompt_time': 0.002138674, 'queue_time': 0.018680466, 'total_time': 0.085915091}, 'model_name': 'mixtral-8x7b-32768', 'system_fingerprint': 'fp_c5f20b5bb1', 'finish_reason': 'stop', 'logprobs': None}, id='run-3b45a7c4-2285-436a-a4f9-43bcff32878d-0', usage_metadata={'input_tokens': 15, 'output_tokens': 55, 'total_tokens': 70})"
      ]
     },
     "execution_count": 8,
     "metadata": {},
     "output_type": "execute_result"
    }
   ],
   "source": [
    "response = llm.invoke(\"who is the prime minister of india\")\n",
    "response"
   ]
  },
  {
   "cell_type": "code",
   "execution_count": 1,
   "id": "58ca12c8-7cae-43d1-80a3-69d67ddb7dba",
   "metadata": {},
   "outputs": [],
   "source": [
    "exit"
   ]
  }
 ],
 "metadata": {
  "kernelspec": {
   "display_name": "Python 3 (ipykernel)",
   "language": "python",
   "name": "python3"
  },
  "language_info": {
   "codemirror_mode": {
    "name": "ipython",
    "version": 3
   },
   "file_extension": ".py",
   "mimetype": "text/x-python",
   "name": "python",
   "nbconvert_exporter": "python",
   "pygments_lexer": "ipython3",
   "version": "3.13.2"
  }
 },
 "nbformat": 4,
 "nbformat_minor": 5
}
